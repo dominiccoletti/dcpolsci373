{
 "cells": [
  {
   "cell_type": "code",
   "execution_count": 1,
   "id": "8bc09abc-24b2-4fa8-83a7-7ab93ee41a58",
   "metadata": {},
   "outputs": [],
   "source": [
    "library(stats)"
   ]
  },
  {
   "cell_type": "code",
   "execution_count": null,
   "id": "2ff0809a-77d2-42e9-972e-79ddd6e1b6f0",
   "metadata": {},
   "outputs": [],
   "source": [
    "vector 1 <- "
   ]
  }
 ],
 "metadata": {
  "kernelspec": {
   "display_name": "R",
   "language": "R",
   "name": "ir"
  },
  "language_info": {
   "codemirror_mode": "r",
   "file_extension": ".r",
   "mimetype": "text/x-r-source",
   "name": "R",
   "pygments_lexer": "r",
   "version": "4.1.1"
  }
 },
 "nbformat": 4,
 "nbformat_minor": 5
}
